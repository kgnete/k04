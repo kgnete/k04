{
 "cells": [
  {
   "cell_type": "code",
   "execution_count": null,
   "metadata": {},
   "outputs": [],
   "source": []
  },
  {
   "cell_type": "markdown",
   "metadata": {},
   "source": [
    "<div id='wikitext'>\n",
    "<p class='vspace'>Laplace transforms convert a function <em>f(t)</em> in the time domain into function in the Laplace domain <em>F(s)</em>.\n",
    "</p>\n",
    "<p class='vspace'>$$F(s) = \\mathcal{L}\\left(f(t)\\right) = \\int_0^\\infty f(t)e^{-s\\,t}dt$$\n",
    "</p>\n",
    "<p class='vspace'>As an example of the Laplace transform, consider a constant <em>c</em>. The function <em>f(t) = c</em> and the following expression is integrated. \n",
    "</p>\n",
    "<p class='vspace'>$$\\mathcal{L}(c)=\\int_0^\\infty c \\, e^{-s\\,t} dt = -\\frac{c}{s}e^{-s\\,t} \\biggr\\rvert_0^\\infty = 0 - \\left(-\\frac{c}{s} \\right) = \\frac{c}{s}$$\n",
    "</p>\n",
    "<div class='vspace'></div>\n",
    "<iframe width=\"560\" height=\"315\" src=\"https://www.youtube.com/embed/rxcVx2gn7CU\" frameborder=\"0\" allowfullscreen></iframe>\n",
    "\n",
    "<p class='vspace'>Mathematicians have developed tables of commonly used Laplace transforms. Below is a summary table with a few of the entries that will be most common for analysis of linear differential equations in this course. Notice that the derived value for a constant <em>c</em> is the unit step function with <em>c=1</em> where a signal output changes from 0 to 1 at time=0.\n",
    "</p>\n",
    "<div class='vspace'></div><h4>Laplace Transform Table</h4>\n",
    "<table border='1' rules='rows' width='100%' align='left' cellpadding='0' ><tr ><td  align='center'><strong> <em>f(t)</em> in Time Domain</strong></td><td  align='center'><strong> <em>F(s)</em> in Laplace Domain </strong></td></tr>\n",
    "<tr ><td  align='center'>$$\\delta(t)\\quad \\mathrm{unit \\; impulse}$$</td><td  align='center'>$$1$$</td></tr>\n",
    "<tr ><td  align='center'>$$S(t) \\quad \\mathrm{unit \\; step}$$</td><td  align='center'>$$\\frac{1}{s}$$</td></tr>\n",
    "<tr ><td  align='center'>$$t \\quad \\mathrm{ramp \\; with \\; slope = 1}$$</td><td  align='center'>$$\\frac{1}{s^2}$$</td></tr>\n",
    "<tr ><td  align='center'>$$t^{n-1}$$</td><td  align='center'>$$\\frac{(n-1)!}{s^n}$$</td></tr>\n",
    "<tr ><td  align='center'>$$e^{-b\\,t}$$</td><td  align='center'>$$\\frac{1}{s+b}$$</td></tr>\n",
    "<tr ><td  align='center'>$$1-e^{-t/\\tau}$$</td><td  align='center'>$$\\frac{1}{s(\\tau s + 1)}$$</td></tr>\n",
    "<tr ><td  align='center'>$$\\sin(\\omega t)$$</td><td  align='right'>$$\\frac{\\omega}{s^2+\\omega^2}$$</td></tr>\n",
    "<tr ><td  align='center'>$$\\cos(\\omega t)$$</td><td  align='right'>$$\\frac{s}{s^2+\\omega^2}$$</td></tr>\n",
    "<tr ><td  align='center'>$$\\frac{1}{\\tau_1-\\tau_2}\\left(\\exp{\\left(-t/\\tau_1\\right)} - \\exp{\\left(-t/\\tau_2 \\right)} \\right)$$</td><td  align='center'>$$\\frac{1}{\\left(\\tau_1s+1\\right)\\left(\\tau_2s+1\\right)}$$</td></tr>\n",
    "<tr ><td  align='center'>$$\\frac{1}{\\tau^n \\left(n-1\\right)!}t^{n-1}\\exp{\\left(-\\frac{t}{\\tau}\\right)}$$</td><td  align='center'>$$\\frac{1}{\\left(\\tau s+1\\right)^n}$$</td></tr>\n",
    "<tr ><td  align='center'>$$\\frac{1}{\\tau \\sqrt{1-\\zeta^2}} \\exp{\\left(-\\frac{\\zeta \\, t}{\\tau}\\right)} \\sin{ \\left( \\sqrt{1-\\zeta^2} \\frac{t}{\\tau} \\right) }$$</td><td  align='center'>$$\\frac{1}{\\tau^2 s^2 + 2 \\zeta \\tau s + 1}$$</td></tr>\n",
    "<tr ><td  align='center'>See <a class='wikilink' href='http://apmonitor.com/pdc/index.php/Main/SecondOrderSystems'>2nd Order Systems</a></td><td  align='center'>$$\\frac{1}{s\\left(\\tau^2 s^2 + 2 \\zeta \\tau s + 1\\right)}$$</td></tr>\n",
    "<tr ><td  align='center'>$$\\frac{df}{dt}$$</td><td  align='center'>$$sF(s)-f(0)$$</td></tr>\n",
    "<tr ><td  align='center'>$$\\frac{d^nf}{dt^n}$$</td><td  align='center'>$$s^n F(s) - s^{n-1} f(0) - s^{n-2}f^{(1)}(0) - \\ldots \\\\ - sf^{(n-2)}(0) - f^{(n-1)}(0)$$</td></tr>\n",
    "<tr ><td  align='center'>$$\\int f(t)$$</td><td  align='center'>$$\\frac{F(s)}{s}$$</td></tr>\n",
    "<tr ><td  align='center'>$$f\\left(t-t_0\\right)S\\left(t-t_0\\right)$$</td><td  align='center'>$$e^{-t_0s}F(s)$$</td></tr>\n",
    "</table>\n",
    "<p class='vspace'>Note that the functions <em>f(t)</em> and <em>F(s)</em> are defined for time greater than or equal to zero. The next step of transforming a linear differential equation into a <a class='wikilink' href='http://apmonitor.com/pdc/index.php/Main/TransferFunctions'>transfer function</a> is to reposition the variables to create an input to output representation of a differential equation.\n",
    "</p>"
   ]
  },
  {
   "cell_type": "code",
   "execution_count": 2,
   "metadata": {},
   "outputs": [
    {
     "name": "stdout",
     "output_type": "stream",
     "text": [
      "U\n",
      "5/s**2\n",
      "X\n",
      "5*t*Heaviside(t)\n",
      "F\n",
      "(5*s + 5)/(s + 3)**2\n",
      "G\n",
      "5/(s + 3) - 10/(s + 3)**2\n",
      "d2\n",
      "s**4 + 7*s**3 + 16*s**2 + 13*s + 3\n",
      "{-1: 1, -3: 1, -3/2 - sqrt(5)/2: 1, -3/2 + sqrt(5)/2: 1}\n"
     ]
    }
   ],
   "source": [
    "import sympy as sym\n",
    "from sympy.abc import s,t,x,y,z\n",
    "from sympy.integrals import laplace_transform\n",
    "from sympy.integrals import inverse_laplace_transform\n",
    "\n",
    "# Laplace transform (t->s)\n",
    "U = laplace_transform(5*t, t, s)\n",
    "print('U')\n",
    "print(U[0])\n",
    "# Result: 5/s**2\n",
    "\n",
    "# Inverse Laplace transform (s->t)\n",
    "X = inverse_laplace_transform(U[0],s,t)\n",
    "print('X')\n",
    "print(X)\n",
    "# Result: 5*t*Heaviside(t)\n",
    "\n",
    "# Function\n",
    "F = 5*(s+1)/(s+3)**2\n",
    "print('F')\n",
    "print(F)\n",
    "# Result: (5*s + 5)/(s + 3)**2\n",
    "\n",
    "# Partial fraction decomposition\n",
    "G = sym.apart(F)\n",
    "print('G')\n",
    "print(G)\n",
    "# Result: 5/(s + 3) - 10/(s + 3)**2\n",
    "\n",
    "# denominator of transfer function\n",
    "d1 = (s+1)*(s+3)*(s**2+3*s+1)\n",
    "\n",
    "# expand polynomial\n",
    "d2 = sym.expand(d1)\n",
    "print('d2')\n",
    "print(d2)\n",
    "# Result: s**4 + 7*s**3 + 16*s**2 + 13*s + 3\n",
    "\n",
    "# find roots\n",
    "print(sym.roots(d2))\n",
    "# Result: {-1: 1, -3: 1, -3/2 - sqrt(5)/2: 1, -3/2 + sqrt(5)/2: 1}"
   ]
  },
  {
   "cell_type": "code",
   "execution_count": null,
   "metadata": {},
   "outputs": [],
   "source": []
  },
  {
   "cell_type": "code",
   "execution_count": null,
   "metadata": {},
   "outputs": [],
   "source": []
  }
 ],
 "metadata": {
  "kernelspec": {
   "display_name": "Python 3",
   "language": "python",
   "name": "python3"
  },
  "language_info": {
   "codemirror_mode": {
    "name": "ipython",
    "version": 3
   },
   "file_extension": ".py",
   "mimetype": "text/x-python",
   "name": "python",
   "nbconvert_exporter": "python",
   "pygments_lexer": "ipython3",
   "version": "3.7.3"
  }
 },
 "nbformat": 4,
 "nbformat_minor": 2
}
