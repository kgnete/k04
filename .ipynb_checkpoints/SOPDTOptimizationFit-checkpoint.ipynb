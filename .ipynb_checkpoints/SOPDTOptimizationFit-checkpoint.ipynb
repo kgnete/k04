{
 "cells": [
  {
   "cell_type": "markdown",
   "metadata": {},
   "source": [
    "# Optimization Method: SOPDT to Data\n",
    "\n",
    "<div id='wikitext'>\n",
    "<p class='vspace'>A second-order linear system with time delay is an empirical description of potentially oscillating dynamic processes. The equation\n",
    "</p>\n",
    "<p class='vspace'>$$\\tau_s^2 \\frac{d^2y}{dt^2} + 2 \\zeta \\tau_s \\frac{dy}{dt} + y = K_p \\, u\\left(t-\\theta_p \\right)$$\n",
    "</p>\n",
    "<p class='vspace'>has output <em>y(t)</em> and input <em>u(t)</em> and four unknown parameters. The four parameters are the gain `K_p`, damping factor `\\zeta`, second order time constant `\\tau_s`, and dead time `\\theta_p`. \n",
    "</p>\n",
    "<p class='vspace'>An alternative to the graphical fitting approach is to use optimization to best match an SOPDT model to data. A common objective is to minimize a sum of squared error that penalizes deviation of the SOPDT model from the data. The optimization algorithm changes the parameters `(K_p, \\tau_p, \\zeta, \\theta_p)` to best match the data at specified time points.\n",
    "</p>\n",
    "<div class='vspace'></div><h4>Generate Simulated Data from Model</h4>\n",
    "<p class='vspace'><span id='source1-tog' class='toggle'><script type=\"text/javascript\">document.write(\"<input type='button' class='inputbutton togglebutton' value='Show Source Code' onclick=\\\"javascript:toggleObj('source1','show','Show Source Code','Hide','Show','Hide','','','','1','', 'block')\\\" />\")</script></span>\n",
    "</p><div id='source1' >\n",
    "<div class='vspace'></div>\n",
    "<div class='sourceblock ' id='sourceblock1'>\n",
    "  <div class='sourceblocktext'><div class=\"python\"><span class=\"co1\"># Generate process data as data.txt</span><br />\n",
    "<span class=\"kw1\">import</span> numpy <span class=\"kw1\">as</span> np<br />\n",
    "<span class=\"kw1\">import</span> matplotlib.<span class=\"me1\">pyplot</span> <span class=\"kw1\">as</span> plt<br />\n",
    "\n",
    "\n",
    "\n",
    "\n"
   ]
  },
  {
   "cell_type": "code",
   "execution_count": 1,
   "metadata": {},
   "outputs": [
    {
     "data": {
      "image/png": "[encoded data removed]",
      "text/plain": [
       "<Figure size 432x288 with 2 Axes>"
      ]
     },
     "metadata": {
      "needs_background": "light"
     },
     "output_type": "display_data"
    }
   ],
   "source": [
    "# Generate process data as data.txt\n",
    "import numpy as np\n",
    "import matplotlib.pyplot as plt\n",
    "from scipy.integrate import odeint\n",
    "%matplotlib inline\n",
    "\n",
    "# define process model (to generate process data)\n",
    "def process(y,t,n,u,Kp,taup):\n",
    "    # arguments\n",
    "    #  y[n] = outputs\n",
    "    #  t    = time\n",
    "    #  n    = order of the system   \n",
    "    #  u    = input value\n",
    "    #  Kp   = process gain\n",
    "    #  taup = process time constant\n",
    "\n",
    "    # equations for higher order system\n",
    "    dydt = np.zeros(n)\n",
    "    # calculate derivative\n",
    "    dydt[0] = (-y[0] + Kp * u)/(taup/n)\n",
    "    for i in range(1,n):\n",
    "       dydt[i] = (-y[i] + y[i-1])/(taup/n)\n",
    "    return dydt\n",
    "\n",
    "# specify number of steps\n",
    "ns = 50\n",
    "# define time points\n",
    "t = np.linspace(0,40,ns+1)\n",
    "delta_t = t[1]-t[0]\n",
    "# define input vector\n",
    "u = np.zeros(ns+1)\n",
    "u[5:20] = 1.0\n",
    "u[20:30] = 0.1\n",
    "u[30:] = 0.5\n",
    "\n",
    "# use this function or replace yp with real process data\n",
    "def sim_process_data():\n",
    "    # higher order process\n",
    "    n=10       # order\n",
    "    Kp=3.0    # gain\n",
    "    taup=5.0   # time constant\n",
    "    # storage for predictions or data\n",
    "    yp = np.zeros(ns+1)  # process\n",
    "    for i in range(1,ns+1):\n",
    "        if i==1:\n",
    "            yp0 = np.zeros(n)\n",
    "        ts = [delta_t*(i-1),delta_t*i]\n",
    "        y = odeint(process,yp0,ts,args=(n,u[i],Kp,taup))\n",
    "        yp0 = y[-1]\n",
    "        yp[i] = y[1][n-1]\n",
    "    return yp\n",
    "yp = sim_process_data()\n",
    "\n",
    "# Construct results and save data file\n",
    "# Column 1 = time\n",
    "# Column 2 = input\n",
    "# Column 3 = output\n",
    "data = np.vstack((t,u,yp)) # vertical stack\n",
    "data = data.T              # transpose data\n",
    "np.savetxt('data.txt',data,delimiter=',')\n",
    "\n",
    "# plot results\n",
    "plt.figure()\n",
    "plt.subplot(2,1,1)\n",
    "plt.plot(t,yp,'kx-',linewidth=2,label='Output')\n",
    "plt.ylabel('Output Data')\n",
    "plt.legend(loc='best')\n",
    "plt.subplot(2,1,2)\n",
    "plt.plot(t,u,'bx-',linewidth=2)\n",
    "plt.legend(['Input'],loc='best')\n",
    "plt.ylabel('Input Data')\n",
    "plt.show()"
   ]
  },
  {
   "cell_type": "code",
   "execution_count": null,
   "metadata": {},
   "outputs": [],
   "source": []
  },
  {
   "cell_type": "code",
   "execution_count": null,
   "metadata": {},
   "outputs": [],
   "source": []
  },
  {
   "cell_type": "code",
   "execution_count": null,
   "metadata": {},
   "outputs": [],
   "source": []
  },
  {
   "cell_type": "code",
   "execution_count": null,
   "metadata": {},
   "outputs": [],
   "source": []
  }
 ],
 "metadata": {
  "kernelspec": {
   "display_name": "Python 3",
   "language": "python",
   "name": "python3"
  },
  "language_info": {
   "codemirror_mode": {
    "name": "ipython",
    "version": 3
   },
   "file_extension": ".py",
   "mimetype": "text/x-python",
   "name": "python",
   "nbconvert_exporter": "python",
   "pygments_lexer": "ipython3",
   "version": "3.7.3"
  }
 },
 "nbformat": 4,
 "nbformat_minor": 2
}
