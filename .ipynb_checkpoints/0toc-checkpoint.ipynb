{
 "cells": [
  {
   "cell_type": "code",
   "execution_count": 118,
   "metadata": {},
   "outputs": [],
   "source": []
  },
  {
   "cell_type": "code",
   "execution_count": 119,
   "metadata": {},
   "outputs": [],
   "source": [
    "%%bash\n",
    "cat << EEOOFF > indice\n",
    "COURSE INFORMATION\n",
    "Course Overview\n",
    "Syllabus\n",
    "Schedule\n",
    "Competencies\n",
    "Info Sheet\n",
    "Video Playlist\n",
    "ASSIGNMENTS\n",
    "EXAMS AND PROJECTS\n",
    "\n",
    "Exam: Dynamic Modeling\n",
    "Lab: Temperature Control\n",
    "Exam: Closed Loop Control\n",
    "Exam: System Analysis\n",
    "\n",
    "Project: Process Control\n",
    "Final Exam\n",
    "DYNAMIC MODELING\n",
    "Introduction\n",
    "Solve with ODEINT\n",
    "Balance Equations\n",
    "Linearization\n",
    "First Order\n",
    "Time Delay\n",
    "FOPDT Graphical Fit\n",
    "FOPDT Optimization Fit\n",
    "Laplace Transforms\n",
    "Transfer Functions\n",
    "State Space\n",
    "Second Order\n",
    "SOPDT Graphical Fit\n",
    "SOPDT Optimization Fit\n",
    "Simulate TF, SS, ODE\n",
    "EQUIPMENT DESIGN\n",
    "Data Acquisition\n",
    "Sensors and Signals\n",
    "Valve Design\n",
    "CONTROL DESIGN\n",
    "Introduction\n",
    "P-only\n",
    "PI\n",
    "PID\n",
    "Stability Analysis\n",
    "Cascade Control\n",
    "Feedforward Control\n",
    "OPTIMAL CONTROL\n",
    "Optimization Intro\n",
    "Linear Programming\n",
    "Nonlinear Programming\n",
    "Refinery Optimization\n",
    "Model Predictive Control\n",
    "RELATED COURSES\n",
    "Computational Tools\n",
    "Dynamics & Control\n",
    "Optimization\n",
    "Dynamic Optimization\n",
    "EEOOFF\n"
   ]
  },
  {
   "cell_type": "code",
   "execution_count": 120,
   "metadata": {},
   "outputs": [],
   "source": [
    "!awk 'NF > 0' indice | awk '{ gsub (\" \", \"\", $0); print}' > indice.txt"
   ]
  },
  {
   "cell_type": "code",
   "execution_count": 122,
   "metadata": {},
   "outputs": [],
   "source": [
    "%%bash\n",
    "while read p; do\n",
    "cat << EEOOFF  > \"$p.ipynb\"\n",
    "{\n",
    " \"cells\": [\n",
    "  {\n",
    "   \"cell_type\": \"code\",\n",
    "   \"execution_count\": null,\n",
    "   \"metadata\": {},\n",
    "   \"outputs\": [],\n",
    "   \"source\": []\n",
    "  }\n",
    " ],\n",
    " \"metadata\": {\n",
    "  \"kernelspec\": {\n",
    "   \"display_name\": \"Python 3\",\n",
    "   \"language\": \"python\",\n",
    "   \"name\": \"python3\"\n",
    "  },\n",
    "  \"language_info\": {\n",
    "   \"codemirror_mode\": {\n",
    "    \"name\": \"ipython\",\n",
    "    \"version\": 3\n",
    "   },\n",
    "   \"file_extension\": \".py\",\n",
    "   \"mimetype\": \"text/x-python\",\n",
    "   \"name\": \"python\",\n",
    "   \"nbconvert_exporter\": \"python\",\n",
    "   \"pygments_lexer\": \"ipython3\",\n",
    "   \"version\": \"3.7.3\"\n",
    "  }\n",
    " },\n",
    " \"nbformat\": 4,\n",
    " \"nbformat_minor\": 2\n",
    "}\n",
    "EEOOFF\n",
    "done < indice.txt"
   ]
  },
  {
   "cell_type": "code",
   "execution_count": null,
   "metadata": {},
   "outputs": [],
   "source": []
  },
  {
   "cell_type": "code",
   "execution_count": 125,
   "metadata": {},
   "outputs": [],
   "source": [
    "!awk '{print \"* [\"$0\"]\"\"(\"$0\".ipynb)\" }' indice.txt > readme.md"
   ]
  },
  {
   "cell_type": "code",
   "execution_count": null,
   "metadata": {},
   "outputs": [],
   "source": []
  },
  {
   "cell_type": "code",
   "execution_count": null,
   "metadata": {},
   "outputs": [],
   "source": []
  },
  {
   "cell_type": "code",
   "execution_count": null,
   "metadata": {},
   "outputs": [],
   "source": []
  }
 ],
 "metadata": {
  "kernelspec": {
   "display_name": "Python 3",
   "language": "python",
   "name": "python3"
  },
  "language_info": {
   "codemirror_mode": {
    "name": "ipython",
    "version": 3
   },
   "file_extension": ".py",
   "mimetype": "text/x-python",
   "name": "python",
   "nbconvert_exporter": "python",
   "pygments_lexer": "ipython3",
   "version": "3.7.3"
  }
 },
 "nbformat": 4,
 "nbformat_minor": 2
}
