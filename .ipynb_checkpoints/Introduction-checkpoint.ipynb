{
 "cells": [
  {
   "cell_type": "markdown",
   "metadata": {},
   "source": [
    "<div id='wikitext'>\n",
    "<p class='vspace'>Dynamic models are essential for understanding the system dynamics in open-loop (manual mode) or for closed-loop (automatic) control. These models are either derived from data (empirical) or from more fundamental relationships (first principles, physics-based) that rely on knowledge of the process. A combination of the two approaches is often used in practice where the form of the equations are developed from fundamental balance equations and unknown or uncertain parameters are adjusted to fit process data.\n",
    "</p>\n",
    "<p class='vspace'>In engineering, there are 4 common balance equations from conservation principles including mass, momentum, energy, and species (see <a class='wikilink' href='http://apmonitor.com/pdc/index.php/Main/PhysicsBasedModels'>Balance Equations</a>). An alternative to physics-based models is to use input-output data to develop empirical dynamic models such as <a class='wikilink' href='http://apmonitor.com/pdc/index.php/Main/FirstOrderSystems'>first-order</a> or <a class='wikilink' href='http://apmonitor.com/pdc/index.php/Main/SecondOrderSystems'>second-order</a> systems.\n",
    "</p>\n",
    "<div class='vspace'></div>\n",
    "<iframe width=\"560\" height=\"315\" src=\"https://www.youtube.com/embed/yKEThlGdn0I\" frameborder=\"0\" allowfullscreen></iframe>\n",
    "\n",
    "<div class='vspace'></div><h4>Steps in Dynamic Modeling</h4>\n",
    "<p>The following are general guidelines for developing a dynamic model. The process is iterative as simulation results help inform modeling assumptions or correct errors in the dynamic balance equations.\n",
    "</p>\n",
    "<div class='vspace'></div><ol><li>Identify objective for the simulation\n",
    "</li><li>Draw a schematic diagram, labeling process variables\n",
    "</li><li>List all assumptions\n",
    "</li><li>Determine spatial dependence\n",
    "<ul><li>yes = Partial Differential Equation (PDE)\n",
    "</li><li>no = Ordinary Differential Equation (ODE)\n",
    "</li></ul></li><li>Write dynamic balances (mass, species, energy)\n",
    "</li><li>Other relations (thermo, reactions, geometry, etc.)\n",
    "</li><li>Degrees of freedom, does number of equations = number of unknowns?\n",
    "</li><li>Classify inputs as\n",
    "<ul><li>Fixed values\n",
    "</li><li>Disturbances\n",
    "</li><li>Manipulated variables\n",
    "</li></ul></li><li>Classify outputs as\n",
    "<ul><li>States\n",
    "</li><li>Controlled variables\n",
    "</li></ul></li><li>Simplify balance equations based on assumptions\n",
    "</li><li>Simulate steady state conditions (if possible)\n",
    "</li><li>Simulate the output with an input step\n",
    "</li></ol><div class='vspace'></div><h4>A Beginning Example: Filling a Water Tank</h4>\n",
    "<p>Consider a cylindrical tank with no outlet flow and an adjustable inlet flow. The inlet flow rate is not measured but there is a level measurement that shows how much fluid has been added to the tank. The objective of this exercise is to develop a model that can maintain a certain water level by automatically adjusting the inlet flow rate. See the subsequent section on <a class='wikilink' href='http://apmonitor.com/pdc/index.php/Main/ProportionalControl'>P-only control</a> for the tank level controller design.\n",
    "</p>\n",
    "<div class='vspace'></div><div class=\"img\"><img height='200px' src='http://apmonitor.com/pdc/uploads/Main/tank_model_no_outlet.png' alt='' title='' /></div>\n",
    "<p class='vspace'>Diagram of a tank with an inlet and no outlet. The symbol <strong>LT</strong> is an abbreviation for <em>Level Transmitter</em>.\n",
    "</p>\n",
    "<p class='vspace'>A first step is to develop a dynamic model of how the inlet flow rate affects the level in the tank. A starting point for this model is a <a class='wikilink' href='http://apmonitor.com/pdc/index.php/Main/PhysicsBasedModels'>balance equation</a>.\n",
    "</p>\n",
    "<p class='vspace'>$$\\frac{dm}{dt} = \\dot m_{in} - \\dot m_{out}$$\n",
    "</p>\n",
    "<p class='vspace'>The accumulation term is a differential variable such as <em>dm/dt</em> for mass. In this case, the accumulation of mass is equal to only an inlet flow and no outlet, generation, or consumption terms.\n",
    "</p>\n",
    "<div class='vspace'></div><h4>Assumptions</h4>\n",
    "<p>The next objective is to simplify the expression and transform it into a relationship between height <em>h</em> and the valve opening <em>u (0-100%)</em>. For liquid water, density is nearly constant even over wide temperature ranges and the mass is equal to the density multiplied by the volume <em>V</em>. Assuming a constant cross-sectional area gives <em>V = h A</em> and a linear correlation between valve opening and inlet flow gives the following relationship.\n",
    "</p>\n",
    "<p class='vspace'>$$ \\rho \\; A \\; \\frac{dh}{dt} = c \\; u \\quad \\mathrm{with} \\quad \\dot m_{in} = c \\; u$$\n",
    "</p>\n",
    "<p class='vspace'>where <em>c</em> is a constant that relates valve opening to inlet flow.\n",
    "</p>\n",
    "<div class='vspace'></div><h4>Problem</h4>\n",
    "<p>Simulate the height of the tank by integrating the mass balance equation for a period of 10 seconds. The valve opens to 100% at time=2 and shuts at time=7. Use a value of <em>1000 kg/m<sup>3</sup></em> for density and <em>1.0 m<sup>2</sup></em> for the cross-sectional area of the tank. For the valve, assume a valve coefficient of <em>c=50.0 (kg/s / %open)</em>.\n",
    "</p>"
   ]
  },
  {
   "cell_type": "code",
   "execution_count": 1,
   "metadata": {},
   "outputs": [
    {
     "data": {
      "image/png": "[encoded data removed]",
      "text/plain": [
       "<Figure size 432x288 with 2 Axes>"
      ]
     },
     "metadata": {
      "needs_background": "light"
     },
     "output_type": "display_data"
    }
   ],
   "source": [
    "import numpy as np\n",
    "import matplotlib.pyplot as plt\n",
    "from scipy.integrate import odeint\n",
    "%matplotlib inline\n",
    "\n",
    "# define tank model\n",
    "def tank(Level,time,c,valve):\n",
    "    rho = 1000.0 # water density (kg/m^3)\n",
    "    A = 1.0      # tank area (m^2)\n",
    "    # calculate derivative of the Level\n",
    "    dLevel_dt = (c/(rho*A)) * valve\n",
    "    return dLevel_dt\n",
    "\n",
    "# time span for the simulation for 10 sec, every 0.1 sec\n",
    "ts = np.linspace(0,10,101)\n",
    "\n",
    "# valve operation\n",
    "c = 50.0          # valve coefficient (kg/s / %open)\n",
    "u = np.zeros(101) # u = valve % open\n",
    "u[21:70] = 100.0  # open valve between 2 and 7 seconds\n",
    "\n",
    "# level initial condition\n",
    "Level0 = 0\n",
    "\n",
    "# for storing the results\n",
    "z = np.zeros(101)\n",
    "\n",
    "# simulate with ODEINT\n",
    "for i in range(100):\n",
    "    valve = u[i+1]\n",
    "    y = odeint(tank,Level0,[0,0.1],args=(c,valve))\n",
    "    Level0 = y[-1] # take the last point\n",
    "    z[i+1] = Level0 # store the level for plotting\n",
    "\n",
    "# plot results\n",
    "plt.figure()\n",
    "plt.subplot(2,1,1)\n",
    "plt.plot(ts,z,'b-',linewidth=3)\n",
    "plt.ylabel('Tank Level')\n",
    "plt.subplot(2,1,2)\n",
    "plt.plot(ts,u,'r--',linewidth=3)\n",
    "plt.ylabel('Valve')    \n",
    "plt.xlabel('Time (sec)')\n",
    "plt.show()"
   ]
  },
  {
   "cell_type": "code",
   "execution_count": null,
   "metadata": {},
   "outputs": [],
   "source": []
  },
  {
   "cell_type": "code",
   "execution_count": null,
   "metadata": {},
   "outputs": [],
   "source": []
  },
  {
   "cell_type": "code",
   "execution_count": null,
   "metadata": {},
   "outputs": [],
   "source": []
  }
 ],
 "metadata": {
  "kernelspec": {
   "display_name": "Python 3",
   "language": "python",
   "name": "python3"
  },
  "language_info": {
   "codemirror_mode": {
    "name": "ipython",
    "version": 3
   },
   "file_extension": ".py",
   "mimetype": "text/x-python",
   "name": "python",
   "nbconvert_exporter": "python",
   "pygments_lexer": "ipython3",
   "version": "3.7.3"
  }
 },
 "nbformat": 4,
 "nbformat_minor": 2
}
