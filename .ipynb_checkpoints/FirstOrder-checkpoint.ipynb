{
 "cells": [
  {
   "cell_type": "code",
   "execution_count": null,
   "metadata": {},
   "outputs": [],
   "source": []
  },
  {
   "cell_type": "markdown",
   "metadata": {},
   "source": [
    "# First Order Plus Dead Time (FOPDT)\n",
    "<div id='wikitext'>\n",
    "<p class='vspace'>A first-order linear system with time delay is a common empirical description of many stable dynamic processes. The First Order Plus Dead Time (FOPDT) model is used to obtain initial controller tuning constants. An interactive FOPDT iPython Widget demonstrates the effect of the three adjustable parameters in the FOPDT equation. Downloading and running the iPython notebook locally reveals three slider bars that update the plot based on changes to the gain `K_p`, time constant `\\tau_p`, and dead time `\\theta_p`.\n",
    "</p>\n",
    "<div class='vspace'></div><div class=\"img\"><img src='http://apmonitor.com/pdc/uploads/Main/download.png' alt='' title='' /> <a class='urllink' href='https://nbviewer.jupyter.org/url/apmonitor.com/pdc/uploads/Main/fopdt_widget.ipynb' rel='nofollow'>Interactive FOPDT Widget</a></div>\n",
    "<p class='vspace'>After gaining an intuitive understanding of how the parameters influence the step response, it is important to understand the mathematical FOPDT equation. The equation\n",
    "</p>\n",
    "<p class='vspace'>$$\\tau_p \\frac{dy(t)}{dt} = -y(t) + K_p u\\left(t-\\theta_p\\right)$$\n",
    "</p>\n",
    "<p class='vspace'>has variables <em>y(t)</em> and <em>u(t)</em> and three unknown parameters.\n",
    "</p>\n",
    "<p class='vspace'>$$K_p \\quad \\mathrm{= Process \\; gain}$$\n",
    "</p>\n",
    "<p class='vspace'>$$\\tau_p \\quad \\mathrm{= Process \\; time \\; constant}$$\n",
    "</p>\n",
    "<p class='vspace'>$$\\theta_p \\quad \\mathrm{= Process \\; dead \\; time}$$\n",
    "</p>\n",
    "<div class='vspace'></div>\n",
    "<iframe width=\"560\" height=\"315\" src=\"https://www.youtube.com/embed/6FHUzGcJe7k\" frameborder=\"0\" allowfullscreen></iframe>\n",
    "\n",
    "<div class='vspace'></div><h4>Process Gain, `K_p`</h4>\n",
    "<p>The process gain is the change in the output <em>y</em> induced by a unit change in the input <em>u</em>. The process gain is calculated by evaluating the change in <em>y(t)</em> divided by the change in u(t) at steady state initial and final conditions.\n",
    "</p>\n",
    "<p class='vspace'>$$K_p = \\frac{\\Delta y}{\\Delta u} = \\frac{y_{ss_2}-y_{ss_1}}{u_{ss_2}-u_{ss_1}}$$\n",
    "</p>\n",
    "<p class='vspace'>The process gain affects the magnitude of the response, regardless of the speed of response.\n",
    "</p>\n",
    "<div class='vspace'></div><h4>Process Time Constant, `\\tau_p`</h4>\n",
    "<p>Given a change in `u(t)` = `\\Delta u`, the solution to the linear first-order differential (without time delay) becomes:\n",
    "</p>\n",
    "<p class='vspace'>$$y(t) = \\left( e^{-t / \\tau_p} \\right) y(0) + \\left( 1 - e^{-t / \\tau_p} \\right) K_p \\Delta u $$\n",
    "</p>\n",
    "<p class='vspace'>If the initial condition <em>y(0)=0</em> and at <em>t=</em>`\\tau_p`, the solution is simplified to the following.\n",
    "</p>\n",
    "<p class='vspace'>$$y\\left( \\tau_p \\right) = \\left( 1 - e^{-\\tau_p / \\tau_p} \\right) K_p \\Delta u = \\left( 1 - e^{-1} \\right) K_p \\Delta u = 0.632 K_p \\Delta u$$\n",
    "</p>\n",
    "<p class='vspace'>The process time constant is therefore the amount of time needed for the output to reach <em>(1-exp(-1))</em> or <em>63.2%</em> of the way to steady state conditions. The process time constant affects the speed of response.\n",
    "</p>\n",
    "<div class='vspace'></div><h4>Process Time Delay, `\\theta_p`</h4>\n",
    "<p>The time delay is expressed as a time shift in the input variable <em>u(t)</em>.\n",
    "</p>\n",
    "<p class='vspace'>$$u\\left(t-\\theta_p\\right)$$\n",
    "</p>\n",
    "<p class='vspace'>Suppose that that input signal is a step function that normally changes from 0 to 1 at time=0 but this shift is delayed by <em>5 sec</em>. The input function <em>u(t)</em> and output function <em>y(t)</em> are time-shifted by <em>5 sec</em>. The solution to the first-order differential equation with time delay is obtained by replacing all variables `t` with `t-\\theta_p` and applying the conditional result based on the time in relation to the time delay, `\\theta_p`.\n",
    "</p>\n",
    "<p class='vspace'>$$y(t \\lt \\theta_p) = y(0)$$\n",
    "</p>\n",
    "<p class='vspace'>$$y(t \\ge \\theta_p) = \\left( e^{-\\left(t - \\theta_p \\right) / \\tau_p}\\right) y(0) + \\left( 1 - e^{-\\left(t - \\theta_p \\right) / \\tau_p} \\right) K_p \\Delta u $$\n",
    "</p>\n",
    "<p class='vspace'>See <a class='wikilink' href='http://apmonitor.com/pdc/index.php/Main/FirstOrderPlusDeadTime'>additional information on time delay</a>.\n",
    "</p>\n",
    "<div class='vspace'></div><h4>Fit Lower Order Model to Data</h4>\n",
    "<p>Two popular methods to fit data or more complex models to an FOPDT systems are with a graphical method and step data or with optimization techniques.\n",
    "</p>"
   ]
  },
  {
   "cell_type": "code",
   "execution_count": null,
   "metadata": {},
   "outputs": [],
   "source": []
  },
  {
   "cell_type": "code",
   "execution_count": null,
   "metadata": {},
   "outputs": [],
   "source": []
  },
  {
   "cell_type": "code",
   "execution_count": null,
   "metadata": {},
   "outputs": [],
   "source": []
  },
  {
   "cell_type": "code",
   "execution_count": null,
   "metadata": {},
   "outputs": [],
   "source": []
  }
 ],
 "metadata": {
  "kernelspec": {
   "display_name": "Python 3",
   "language": "python",
   "name": "python3"
  },
  "language_info": {
   "codemirror_mode": {
    "name": "ipython",
    "version": 3
   },
   "file_extension": ".py",
   "mimetype": "text/x-python",
   "name": "python",
   "nbconvert_exporter": "python",
   "pygments_lexer": "ipython3",
   "version": "3.7.3"
  }
 },
 "nbformat": 4,
 "nbformat_minor": 2
}
