{
 "cells": [
  {
   "cell_type": "code",
   "execution_count": null,
   "metadata": {},
   "outputs": [],
   "source": []
  },
  {
   "cell_type": "markdown",
   "metadata": {},
   "source": [
    "\n",
    "<div id='wikitext'>\n",
    "<p class='vspace'>Transfer functions are input to output representations of dynamic systems. One advantage of working in the Laplace domain (versus the time domain) is that differential equations become algebraic equations. These algebraic equations can be rearranged and transformed back into the time domain to obtain a solution or further combined with other transfer functions to create more complicated systems. The first step in creating a transfer function is to convert each term of a differential equation with a Laplace transform as shown in the <a class='wikilink' href='http://apmonitor.com/pdc/index.php/Main/LaplaceTransforms'>table of Laplace transforms</a>. A transfer function, <em>G(s)</em>, relates an input, <em>U(s)</em>, to an output, <em>Y(s)</em>.\n",
    "</p>\n",
    "<p class='vspace'>$$G(s) = \\frac{Y(s)}{U(s)}$$\n",
    "</p>\n",
    "<div class='vspace'></div>\n",
    "<iframe width=\"560\" height=\"315\" src=\"https://www.youtube.com/embed/8Bd9V4M93tY\" frameborder=\"0\" allowfullscreen></iframe>\n",
    "\n",
    "<div class='vspace'></div><h4>First-order Transfer Function</h4>\n",
    "<p>A <a class='wikilink' href='http://apmonitor.com/pdc/index.php/Main/FirstOrderSystems'>first-order linear differential equation</a> is shown as a function of time.\n",
    "</p>\n",
    "<p class='vspace'>$$\\tau_p \\frac{dy(t)}{dt} = -y(t) + K_p u\\left(t-\\theta_p\\right)$$\n",
    "</p>\n",
    "<p class='vspace'>The first step is to apply the <a class='wikilink' href='http://apmonitor.com/pdc/index.php/Main/LaplaceTransforms'>Laplace transform</a> to each of the terms in the differential equation. \n",
    "</p>\n",
    "<p class='vspace'>$$\\mathcal{L}\\left(\\tau_p \\frac{dy(t)}{dt}\\right) = \\mathcal{L}\\left(-y(t)\\right) + \\mathcal{L}\\left(K_p u\\left(t-\\theta_p\\right)\\right)$$\n",
    "</p>\n",
    "<p class='vspace'>Because the Laplace transform is a linear operator, each term can be transformed separately. With a zero initial condition the value of <em>y</em> is zero at the initial time or <em>y(0)=0</em>.\n",
    "</p>\n",
    "<p class='vspace'>$$\\mathcal{L}\\left(\\tau_p \\frac{dy(t)}{dt}\\right) = \\tau_p \\left(s \\, Y(s) - y(0)\\right) = \\tau_p s \\, Y(s)$$\n",
    "</p>\n",
    "<p class='vspace'>$$\\mathcal{L}\\left(-y(t)\\right) = -Y(s)$$\n",
    "</p>\n",
    "<p class='vspace'>$$\\mathcal{L}\\left(K_p u\\left(t-\\theta_p\\right)\\right) = K_p \\, U(s) \\, e^{-\\theta_p s}$$\n",
    "</p>\n",
    "<p class='vspace'>Putting these terms together gives the first-order differential equation in the Laplace domain.\n",
    "</p>\n",
    "<p class='vspace'>$$\\tau_p s \\, Y(s) = -Y(s) + K_p \\, U(s) \\, e^{-\\theta_p s}$$\n",
    "</p>\n",
    "<p class='vspace'>For the first-order linear system, the transfer function is created by isolating terms with <em>Y(s)</em> on the left side of the equation and the term with <em>U(s)</em> on the right side of the equation.\n",
    "</p>\n",
    "<p class='vspace'>$$\\tau_p s \\, Y(s) + Y(s) = K_p \\, U(s) \\, e^{-\\theta_p s}$$\n",
    "</p>\n",
    "<p class='vspace'>Factoring out the <em>Y(s)</em> and dividing through gives the final transfer function.\n",
    "</p>\n",
    "<p class='vspace'>$$G(s) = \\frac{Y(s)}{U(s)} = \\frac{K_p e^{-\\theta_p s}}{\\tau_p s + 1}$$\n",
    "</p>\n",
    "<div class='vspace'></div><h4>Combining Transfer Functions</h4>\n",
    "<p>The additive property is used for transfer functions in parallel. The input signal `X_1(s)` becomes `Y_1(s)` when it is transformed by `G_1(s)`. Likewise, `X_2(s)` becomes `Y_2(s)` when it is transformed by `G_2(s)`. The two signals `Y_1(s)` and `Y_2(s)` are added to create the final output signal `Y(s)=Y_1(s)+Y_2(s)`. This gives a final output expression of `Y(s)=G_1(s) X_1(s)+G_2(s) X_2(s)`.\n",
    "</p>\n",
    "<div class='vspace'></div><div class=\"img\"><img width='300px' src='http://apmonitor.com/pdc/uploads/Main/transfer_functions_additive.png' alt='' title='' /></div>\n",
    "<p class='vspace'>The multiplicative property is used for transfer functions in series. The input signal `X_1(s)` becomes `X_2(s)` when it is transformed by `G_1(s)`. The intermediate signal `X_2(s)` becomes the input for the second transfer function `G_2(s)` to produce `Y(s)`. The final output signal is `Y(s)=G_2(s) X_2(s) = G_1(s) G_2(s) X_1(s)`.\n",
    "</p>\n",
    "<div class='vspace'></div><div class=\"img\"><img width='450px' src='http://apmonitor.com/pdc/uploads/Main/transfer_functions_multiplicative.png' alt='' title='' /></div>\n",
    "<div class='vspace'></div><h4>Transfer Functions with Python</h4>\n",
    "<p>Python SymPy computes symbolic solutions to many mathematical problems including Laplace transforms. A symbolic and numeric solution is created with the following example problem.\n",
    "</p>\n",
    "<p class='vspace'>Compute the analytic and numeric system response to an input that includes a step and ramp function.\n",
    "</p>\n",
    "<div class='vspace'></div><div class=\"img\"><img width='500px' src='http://apmonitor.com/pdc/uploads/Main/input_laplace_function.png' alt='' title='' /></div>\n",
    "<p class='vspace'>The system transfer function is a stable system with two poles (denominator roots) and one zero (numerator root):\n",
    "</p>\n",
    "<p class='vspace'>$$G(s)=\\frac{5\\left(s + 1\\right)}{\\left(s + 3\\right)^2}$$\n",
    "</p>\n",
    "<div class='vspace'></div>\n",
    "<iframe width=\"560\" height=\"315\" src=\"https://www.youtube.com/embed/mjGczJTkWic\" frameborder=\"0\" allow=\"accelerometer; autoplay; encrypted-media; gyroscope; picture-in-picture\" allowfullscreen></iframe>\n",
    "\n",
    "<p class='vspace'><strong>Symbolic Solution (Python Sympy)</strong>\n",
    "</p>\n",
    "<p class='vspace'>As a first step, create the step and ramp signals as three individual functions. Compute the system response to each of those three inputs and then sum the signals."
   ]
  },
  {
   "cell_type": "code",
   "execution_count": 2,
   "metadata": {},
   "outputs": [
    {
     "name": "stdout",
     "output_type": "stream",
     "text": [
      "y1\n",
      "-10*(-exp(3*t) + 6*exp(3)*log(exp(-t)) + 7*exp(3))*exp(-3*t)*Heaviside(t - 1)/9\n"
     ]
    },
    {
     "data": {
      "image/png": "[encoded data removed]",
      "text/plain": [
       "<Figure size 432x288 with 1 Axes>"
      ]
     },
     "metadata": {
      "needs_background": "light"
     },
     "output_type": "display_data"
    }
   ],
   "source": [
    "import sympy as sym\n",
    "from sympy.abc import s,t,x,y,z\n",
    "import numpy as np\n",
    "from sympy.integrals import inverse_laplace_transform\n",
    "import matplotlib.pyplot as plt\n",
    "%matplotlib inline\n",
    "\n",
    "# Define inputs\n",
    "# First step (up) starts at 1 sec\n",
    "U1 = 2/s*sym.exp(-s)\n",
    "# Ramp (down) starts at 3 sec\n",
    "U2 = -1/s**2*sym.exp(-3*s)\n",
    "# Ramp completes at 5 sec\n",
    "U3 = 1/s**2*sym.exp(-5*s)\n",
    "\n",
    "# Transfer function\n",
    "G = 5*(s+1)/(s+3)**2\n",
    "\n",
    "# Calculate responses\n",
    "Y1 = G * U1\n",
    "Y2 = G * U2\n",
    "Y3 = G * U3\n",
    "\n",
    "# Inverse Laplace Transform\n",
    "u1 = inverse_laplace_transform(U1,s,t)\n",
    "u2 = inverse_laplace_transform(U2,s,t)\n",
    "u3 = inverse_laplace_transform(U3,s,t)\n",
    "y1 = inverse_laplace_transform(Y1,s,t)\n",
    "y2 = inverse_laplace_transform(Y2,s,t)\n",
    "y3 = inverse_laplace_transform(Y3,s,t)\n",
    "print('y1')\n",
    "print(y1)\n",
    "\n",
    "# generate data for plot\n",
    "tm = np.linspace(0,8,100)\n",
    "us = np.zeros(len(tm))\n",
    "ys = np.zeros(len(tm))\n",
    "\n",
    "# substitute numeric values for u and y\n",
    "for u in [u1,u2,u3]:\n",
    "    for i in range(len(tm)):\n",
    "        us[i] += u.subs(t,tm[i])\n",
    "for y in [y1,y2,y3]:\n",
    "    for i in range(len(tm)):\n",
    "        ys[i] += y.subs(t,tm[i])\n",
    "\n",
    "# plot results\n",
    "plt.figure()\n",
    "plt.plot(tm,us,label='u(t)')\n",
    "plt.plot(tm,ys,label='y(t)')\n",
    "plt.legend()\n",
    "plt.xlabel('Time')\n",
    "plt.show()"
   ]
  },
  {
   "cell_type": "markdown",
   "metadata": {},
   "source": [
    "<p class='vspace'><strong>Numeric Solution (Python GEKKO)</strong>\n",
    "</p>\n",
    "<p class='vspace'>An alternative to a symbolic solution is to numerically compute the response in the time domain. The transfer function must first be translated into a differential equation.\n",
    "</p>\n",
    "<p class='vspace'>$$G(s)=\\frac{Y(s)}{U(s)}=\\frac{5\\left(s + 1\\right)}{\\left(s + 3\\right)^2}$$\n",
    "</p>\n",
    "<p class='vspace'>$$Y(s)\\left(s + 3\\right)^2=5\\left(s + 1\\right)U(s)$$\n",
    "</p>\n",
    "<p class='vspace'>$$Y(s)\\left(s^2 +6s+9\\right)=\\left(5s + 5\\right)U(s)$$\n",
    "</p>\n",
    "<p class='vspace'>$$\\frac{dy^2(t)}{dt^2}+6\\frac{dy(t)}{dt}+9y(t)=5\\frac{du(t)}{dt}+5u(t)$$"
   ]
  },
  {
   "cell_type": "code",
   "execution_count": 3,
   "metadata": {},
   "outputs": [
    {
     "data": {
      "image/png": "[encoded data removed]",
      "text/plain": [
       "<Figure size 432x288 with 1 Axes>"
      ]
     },
     "metadata": {
      "needs_background": "light"
     },
     "output_type": "display_data"
    }
   ],
   "source": [
    "from gekko import GEKKO\n",
    "import numpy as np\n",
    "import matplotlib.pyplot as plt\n",
    "\n",
    "# Create GEKKO model\n",
    "m = GEKKO()\n",
    "\n",
    "# Time points for simulation\n",
    "nt = 81\n",
    "m.time = np.linspace(0,8,nt)\n",
    "\n",
    "# Define input\n",
    "# First step (up) starts at 1 sec\n",
    "# Ramp (down) starts at 3 sec\n",
    "# Ramp completes at 5 sec\n",
    "ut = np.zeros(nt)\n",
    "ut[11:31] = 2.0\n",
    "for i in range(31,51):\n",
    "    ut[i] = ut[i-1] - 0.1\n",
    "\n",
    "# Define model\n",
    "u = m.Param(value=ut)\n",
    "ud = m.Var()\n",
    "y = m.Var()\n",
    "dydt = m.Var()\n",
    "m.Equation(ud==u)\n",
    "m.Equation(dydt==y.dt())\n",
    "m.Equation(dydt.dt() + 6*y.dt() + 9*y==5*ud.dt()+5*u)\n",
    "\n",
    "# Simulation options\n",
    "m.options.IMODE=7\n",
    "m.options.NODES=4\n",
    "m.solve(disp=False)\n",
    "\n",
    "# plot results\n",
    "plt.figure()\n",
    "plt.plot(m.time,u.value,label='u(t)')\n",
    "plt.plot(m.time,y.value,label='y(t)')\n",
    "plt.legend()\n",
    "plt.xlabel('Time')\n",
    "plt.show()"
   ]
  },
  {
   "cell_type": "code",
   "execution_count": null,
   "metadata": {},
   "outputs": [],
   "source": []
  },
  {
   "cell_type": "code",
   "execution_count": null,
   "metadata": {},
   "outputs": [],
   "source": []
  }
 ],
 "metadata": {
  "kernelspec": {
   "display_name": "Python 3",
   "language": "python",
   "name": "python3"
  },
  "language_info": {
   "codemirror_mode": {
    "name": "ipython",
    "version": 3
   },
   "file_extension": ".py",
   "mimetype": "text/x-python",
   "name": "python",
   "nbconvert_exporter": "python",
   "pygments_lexer": "ipython3",
   "version": "3.7.3"
  }
 },
 "nbformat": 4,
 "nbformat_minor": 2
}
